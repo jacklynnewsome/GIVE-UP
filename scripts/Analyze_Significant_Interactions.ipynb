{
 "cells": [
  {
   "cell_type": "code",
   "execution_count": 10,
   "metadata": {},
   "outputs": [],
   "source": [
    "import pandas as pd \n",
    "import numpy as np\n",
    "from collections import Counter\n",
    "import gzip\n",
    "import os\n",
    "import subprocess\n",
    "\n",
    "import matplotlib.pyplot as plt \n",
    "%matplotlib inline \n",
    "import seaborn as sns \n",
    "import subprocess\n",
    "\n",
    "output_dir = '../output/fithic/combined'"
   ]
  },
  {
   "cell_type": "markdown",
   "metadata": {},
   "source": [
    "## Loading chromosome sizes"
   ]
  },
  {
   "cell_type": "code",
   "execution_count": 24,
   "metadata": {},
   "outputs": [],
   "source": [
    "# Loading chromosome sizes \n",
    "chromsize_fn = '/gpfs/data01/glasslab/home/joreyna/projects/CSE283/imarge_project//ref/chromsize.hg38.txt'\n",
    "chromsizes = pd.read_table(chromsize_fn, sep='\\t', names=['chrom', 'size'])\n",
    "chromsizes.set_index('chrom', inplace=True)\n",
    "\n",
    "# Excluding non-human chromosomes \n",
    "chroms = list(range(1, 23)) + ['X', 'Y']\n",
    "chroms = ['chr{}'.format(x) for x in chroms]\n",
    "chromsizes = chromsizes[chromsizes.index.isin(chroms)]"
   ]
  },
  {
   "cell_type": "code",
   "execution_count": 52,
   "metadata": {},
   "outputs": [
    {
     "data": {
      "text/html": [
       "<div>\n",
       "<style scoped>\n",
       "    .dataframe tbody tr th:only-of-type {\n",
       "        vertical-align: middle;\n",
       "    }\n",
       "\n",
       "    .dataframe tbody tr th {\n",
       "        vertical-align: top;\n",
       "    }\n",
       "\n",
       "    .dataframe thead th {\n",
       "        text-align: right;\n",
       "    }\n",
       "</style>\n",
       "<table border=\"1\" class=\"dataframe\">\n",
       "  <thead>\n",
       "    <tr style=\"text-align: right;\">\n",
       "      <th></th>\n",
       "      <th>size</th>\n",
       "    </tr>\n",
       "    <tr>\n",
       "      <th>chrom</th>\n",
       "      <th></th>\n",
       "    </tr>\n",
       "  </thead>\n",
       "  <tbody>\n",
       "    <tr>\n",
       "      <th>chr1</th>\n",
       "      <td>248956422</td>\n",
       "    </tr>\n",
       "    <tr>\n",
       "      <th>chr2</th>\n",
       "      <td>242193529</td>\n",
       "    </tr>\n",
       "    <tr>\n",
       "      <th>chr3</th>\n",
       "      <td>198295559</td>\n",
       "    </tr>\n",
       "    <tr>\n",
       "      <th>chr4</th>\n",
       "      <td>190214555</td>\n",
       "    </tr>\n",
       "    <tr>\n",
       "      <th>chr5</th>\n",
       "      <td>181538259</td>\n",
       "    </tr>\n",
       "  </tbody>\n",
       "</table>\n",
       "</div>"
      ],
      "text/plain": [
       "            size\n",
       "chrom           \n",
       "chr1   248956422\n",
       "chr2   242193529\n",
       "chr3   198295559\n",
       "chr4   190214555\n",
       "chr5   181538259"
      ]
     },
     "execution_count": 52,
     "metadata": {},
     "output_type": "execute_result"
    }
   ],
   "source": [
    "chromsizes.head()"
   ]
  },
  {
   "cell_type": "markdown",
   "metadata": {},
   "source": [
    "## Analyzing bin counts "
   ]
  },
  {
   "cell_type": "markdown",
   "metadata": {},
   "source": [
    "I want to look at the chromosomal pairs and see if if there is a pair worth plotting somehow. "
   ]
  },
  {
   "cell_type": "markdown",
   "metadata": {},
   "source": [
    "#### HEK"
   ]
  },
  {
   "cell_type": "code",
   "execution_count": 142,
   "metadata": {},
   "outputs": [],
   "source": [
    "def analyze_chrom_counts(sig_ints):\n",
    "    \n",
    "    chrom_counts = sig_ints.groupby(['chr1', 'chr2']).apply(len).to_frame().reset_index()\n",
    "    norm_counts = []\n",
    "    for i, sr in chrom_counts.iterrows():\n",
    "        chrA_size = chromsizes.loc[sr['chr1'], 'size']\n",
    "        chrB_size = chromsizes.loc[sr['chr2'], 'size']\n",
    "        norm_count = sr[0] / (chrA_size * chrB_size / 1000000**2)\n",
    "        #norm_count = - np.log10(norm_count)\n",
    "        norm_counts.append(norm_count)\n",
    "    chrom_counts['norm_counts'] = norm_counts\n",
    "    \n",
    "    return(chrom_counts)\n",
    "\n"
   ]
  },
  {
   "cell_type": "code",
   "execution_count": 143,
   "metadata": {},
   "outputs": [
    {
     "data": {
      "text/html": [
       "<div>\n",
       "<style scoped>\n",
       "    .dataframe tbody tr th:only-of-type {\n",
       "        vertical-align: middle;\n",
       "    }\n",
       "\n",
       "    .dataframe tbody tr th {\n",
       "        vertical-align: top;\n",
       "    }\n",
       "\n",
       "    .dataframe thead th {\n",
       "        text-align: right;\n",
       "    }\n",
       "</style>\n",
       "<table border=\"1\" class=\"dataframe\">\n",
       "  <thead>\n",
       "    <tr style=\"text-align: right;\">\n",
       "      <th></th>\n",
       "      <th>chr1</th>\n",
       "      <th>chr2</th>\n",
       "      <th>0</th>\n",
       "      <th>norm_counts</th>\n",
       "    </tr>\n",
       "  </thead>\n",
       "  <tbody>\n",
       "    <tr>\n",
       "      <th>0</th>\n",
       "      <td>chr1</td>\n",
       "      <td>chr1</td>\n",
       "      <td>10182</td>\n",
       "      <td>0.164281</td>\n",
       "    </tr>\n",
       "    <tr>\n",
       "      <th>1</th>\n",
       "      <td>chr1</td>\n",
       "      <td>chr10</td>\n",
       "      <td>1977</td>\n",
       "      <td>0.059352</td>\n",
       "    </tr>\n",
       "    <tr>\n",
       "      <th>2</th>\n",
       "      <td>chr1</td>\n",
       "      <td>chr11</td>\n",
       "      <td>2178</td>\n",
       "      <td>0.064762</td>\n",
       "    </tr>\n",
       "    <tr>\n",
       "      <th>3</th>\n",
       "      <td>chr1</td>\n",
       "      <td>chr12</td>\n",
       "      <td>1977</td>\n",
       "      <td>0.059585</td>\n",
       "    </tr>\n",
       "    <tr>\n",
       "      <th>4</th>\n",
       "      <td>chr1</td>\n",
       "      <td>chr13</td>\n",
       "      <td>1270</td>\n",
       "      <td>0.044606</td>\n",
       "    </tr>\n",
       "  </tbody>\n",
       "</table>\n",
       "</div>"
      ],
      "text/plain": [
       "   chr1   chr2      0  norm_counts\n",
       "0  chr1   chr1  10182     0.164281\n",
       "1  chr1  chr10   1977     0.059352\n",
       "2  chr1  chr11   2178     0.064762\n",
       "3  chr1  chr12   1977     0.059585\n",
       "4  chr1  chr13   1270     0.044606"
      ]
     },
     "execution_count": 143,
     "metadata": {},
     "output_type": "execute_result"
    }
   ],
   "source": [
    "cell_type = 'hek'\n",
    "data_dir = '../output/fithic/{}'.format(cell_type)\n",
    "sig_ints = os.path.join(data_dir, 'FitHiC.spline_pass1.res40000.significances.txt.flt.gz')\n",
    "sig_ints = pd.read_table(sig_ints)\n",
    "chrom_counts_hek = analyze_chrom_counts(sig_ints)\n",
    "chrom_counts_hek.head()"
   ]
  },
  {
   "cell_type": "code",
   "execution_count": 144,
   "metadata": {},
   "outputs": [
    {
     "data": {
      "text/plain": [
       "count    530.000000\n",
       "mean       0.061751\n",
       "std        0.084521\n",
       "min        0.000112\n",
       "25%        0.016796\n",
       "50%        0.028159\n",
       "75%        0.062298\n",
       "max        1.007932\n",
       "Name: norm_counts, dtype: float64"
      ]
     },
     "execution_count": 144,
     "metadata": {},
     "output_type": "execute_result"
    }
   ],
   "source": [
    "chrom_counts_hek.norm_counts.describe()"
   ]
  },
  {
   "cell_type": "code",
   "execution_count": 152,
   "metadata": {},
   "outputs": [
    {
     "name": "stderr",
     "output_type": "stream",
     "text": [
      "/gpfs/data01/glasslab/home/joreyna/.conda/envs/tf_binding_nnet/lib/python3.7/site-packages/ipykernel_launcher.py:2: FutureWarning: \n",
      "Passing list-likes to .loc or [] with any missing label will raise\n",
      "KeyError in the future, you can use .reindex() as an alternative.\n",
      "\n",
      "See the documentation here:\n",
      "https://pandas.pydata.org/pandas-docs/stable/indexing.html#deprecate-loc-reindex-listlike\n",
      "  \n"
     ]
    }
   ],
   "source": [
    "chrom_matrix_hek = chrom_counts_hek.pivot(index='chr1', columns='chr2', values='norm_counts')\n",
    "chrom_matrix_hek = chrom_matrix_hek.loc[chroms, chroms]"
   ]
  },
  {
   "cell_type": "code",
   "execution_count": 153,
   "metadata": {},
   "outputs": [
    {
     "data": {
      "image/png": "[encoded data removed]",
      "text/plain": [
       "<Figure size 576x432 with 2 Axes>"
      ]
     },
     "metadata": {
      "needs_background": "light"
     },
     "output_type": "display_data"
    }
   ],
   "source": [
    "fig, ax = plt.subplots(figsize=(8,6))\n",
    "\n",
    "sns.heatmap(chrom_matrix_hek, ax=ax)\n",
    "\n",
    "ax.set_xlabel('RNA Chromosome')\n",
    "ax.set_ylabel('DNA Chromosome');"
   ]
  },
  {
   "cell_type": "markdown",
   "metadata": {},
   "source": [
    "### HFF"
   ]
  },
  {
   "cell_type": "code",
   "execution_count": 154,
   "metadata": {},
   "outputs": [
    {
     "data": {
      "text/html": [
       "<div>\n",
       "<style scoped>\n",
       "    .dataframe tbody tr th:only-of-type {\n",
       "        vertical-align: middle;\n",
       "    }\n",
       "\n",
       "    .dataframe tbody tr th {\n",
       "        vertical-align: top;\n",
       "    }\n",
       "\n",
       "    .dataframe thead th {\n",
       "        text-align: right;\n",
       "    }\n",
       "</style>\n",
       "<table border=\"1\" class=\"dataframe\">\n",
       "  <thead>\n",
       "    <tr style=\"text-align: right;\">\n",
       "      <th></th>\n",
       "      <th>chr1</th>\n",
       "      <th>chr2</th>\n",
       "      <th>0</th>\n",
       "      <th>norm_counts</th>\n",
       "    </tr>\n",
       "  </thead>\n",
       "  <tbody>\n",
       "    <tr>\n",
       "      <th>0</th>\n",
       "      <td>chr1</td>\n",
       "      <td>chr1</td>\n",
       "      <td>4857</td>\n",
       "      <td>0.078365</td>\n",
       "    </tr>\n",
       "    <tr>\n",
       "      <th>1</th>\n",
       "      <td>chr1</td>\n",
       "      <td>chr10</td>\n",
       "      <td>1366</td>\n",
       "      <td>0.041009</td>\n",
       "    </tr>\n",
       "    <tr>\n",
       "      <th>2</th>\n",
       "      <td>chr1</td>\n",
       "      <td>chr11</td>\n",
       "      <td>1418</td>\n",
       "      <td>0.042164</td>\n",
       "    </tr>\n",
       "    <tr>\n",
       "      <th>3</th>\n",
       "      <td>chr1</td>\n",
       "      <td>chr12</td>\n",
       "      <td>1534</td>\n",
       "      <td>0.046233</td>\n",
       "    </tr>\n",
       "    <tr>\n",
       "      <th>4</th>\n",
       "      <td>chr1</td>\n",
       "      <td>chr13</td>\n",
       "      <td>856</td>\n",
       "      <td>0.030065</td>\n",
       "    </tr>\n",
       "  </tbody>\n",
       "</table>\n",
       "</div>"
      ],
      "text/plain": [
       "   chr1   chr2     0  norm_counts\n",
       "0  chr1   chr1  4857     0.078365\n",
       "1  chr1  chr10  1366     0.041009\n",
       "2  chr1  chr11  1418     0.042164\n",
       "3  chr1  chr12  1534     0.046233\n",
       "4  chr1  chr13   856     0.030065"
      ]
     },
     "execution_count": 154,
     "metadata": {},
     "output_type": "execute_result"
    }
   ],
   "source": [
    "cell_type = 'hff'\n",
    "data_dir = '../output/fithic/{}'.format(cell_type)\n",
    "sig_ints = os.path.join(data_dir, 'FitHiC.spline_pass1.res40000.significances.txt.flt.gz')\n",
    "sig_ints = pd.read_table(sig_ints)\n",
    "chrom_counts_hff = analyze_chrom_counts(sig_ints)\n",
    "chrom_counts_hff.head()"
   ]
  },
  {
   "cell_type": "code",
   "execution_count": 155,
   "metadata": {},
   "outputs": [
    {
     "data": {
      "text/plain": [
       "count    573.000000\n",
       "mean       0.031746\n",
       "std        0.051924\n",
       "min        0.000184\n",
       "25%        0.006833\n",
       "50%        0.014153\n",
       "75%        0.037094\n",
       "max        0.349072\n",
       "Name: norm_counts, dtype: float64"
      ]
     },
     "execution_count": 155,
     "metadata": {},
     "output_type": "execute_result"
    }
   ],
   "source": [
    "chrom_counts_hff.norm_counts.describe()"
   ]
  },
  {
   "cell_type": "code",
   "execution_count": 156,
   "metadata": {},
   "outputs": [],
   "source": [
    "chrom_matrix_hff = chrom_counts_hff.pivot(index='chr1', columns='chr2', values='norm_counts')\n",
    "chrom_matrix_hff = chrom_matrix_hff.loc[chroms, chroms]"
   ]
  },
  {
   "cell_type": "code",
   "execution_count": 157,
   "metadata": {},
   "outputs": [
    {
     "data": {
      "image/png": "[encoded data removed]",
      "text/plain": [
       "<Figure size 576x432 with 2 Axes>"
      ]
     },
     "metadata": {
      "needs_background": "light"
     },
     "output_type": "display_data"
    }
   ],
   "source": [
    "fig, ax = plt.subplots(figsize=(8,6))\n",
    "\n",
    "sns.heatmap(chrom_matrix_hff, ax=ax)\n",
    "\n",
    "ax.set_xlabel('RNA Chromosome')\n",
    "ax.set_ylabel('DNA Chromosome');"
   ]
  },
  {
   "cell_type": "code",
   "execution_count": null,
   "metadata": {},
   "outputs": [],
   "source": []
  },
  {
   "cell_type": "code",
   "execution_count": null,
   "metadata": {},
   "outputs": [],
   "source": []
  },
  {
   "cell_type": "code",
   "execution_count": null,
   "metadata": {},
   "outputs": [],
   "source": []
  },
  {
   "cell_type": "code",
   "execution_count": null,
   "metadata": {},
   "outputs": [],
   "source": []
  },
  {
   "cell_type": "code",
   "execution_count": null,
   "metadata": {},
   "outputs": [],
   "source": []
  },
  {
   "cell_type": "code",
   "execution_count": null,
   "metadata": {},
   "outputs": [],
   "source": []
  },
  {
   "cell_type": "code",
   "execution_count": null,
   "metadata": {},
   "outputs": [],
   "source": []
  },
  {
   "cell_type": "code",
   "execution_count": null,
   "metadata": {},
   "outputs": [],
   "source": []
  },
  {
   "cell_type": "code",
   "execution_count": null,
   "metadata": {},
   "outputs": [],
   "source": []
  },
  {
   "cell_type": "code",
   "execution_count": null,
   "metadata": {},
   "outputs": [],
   "source": []
  },
  {
   "cell_type": "code",
   "execution_count": null,
   "metadata": {},
   "outputs": [],
   "source": []
  },
  {
   "cell_type": "code",
   "execution_count": null,
   "metadata": {},
   "outputs": [],
   "source": []
  },
  {
   "cell_type": "code",
   "execution_count": null,
   "metadata": {},
   "outputs": [],
   "source": []
  }
 ],
 "metadata": {
  "kernelspec": {
   "display_name": "tf_binding_model",
   "language": "python",
   "name": "tf_binding_model"
  },
  "language_info": {
   "codemirror_mode": {
    "name": "ipython",
    "version": 3
   },
   "file_extension": ".py",
   "mimetype": "text/x-python",
   "name": "python",
   "nbconvert_exporter": "python",
   "pygments_lexer": "ipython3",
   "version": "3.7.1"
  }
 },
 "nbformat": 4,
 "nbformat_minor": 2
}
