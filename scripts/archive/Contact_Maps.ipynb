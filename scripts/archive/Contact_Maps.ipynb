{
 "cells": [
  {
   "cell_type": "code",
   "execution_count": 260,
   "metadata": {},
   "outputs": [],
   "source": [
    "import pandas as pd \n",
    "import numpy as np\n",
    "from collections import Counter, OrderedDict\n",
    "import gzip\n",
    "import os\n",
    "from multiprocessing import Pool\n",
    "import subprocess\n",
    "\n",
    "\n",
    "import matplotlib.pyplot as plt \n",
    "%matplotlib inline \n",
    "import seaborn as sns "
   ]
  },
  {
   "cell_type": "markdown",
   "metadata": {},
   "source": [
    "Give - https://github.com/Zhong-Lab-UCSD/Genomic-Interactive-Visualization-Engine/blob/master/tutorials/0-shortexample.md"
   ]
  },
  {
   "cell_type": "markdown",
   "metadata": {},
   "source": [
    "HiCtool - https://github.com/Zhong-Lab-UCSD/HiCtool/blob/master/tutorial/data-preprocessing.md"
   ]
  },
  {
   "cell_type": "markdown",
   "metadata": {},
   "source": [
    "## Loading chromsizes file "
   ]
  },
  {
   "cell_type": "code",
   "execution_count": 95,
   "metadata": {},
   "outputs": [],
   "source": [
    "# Loading chromosome sizes \n",
    "chromsize_fn = '/gpfs/data01/glasslab/home/joreyna/projects/CSE283/Project/ref/chromsize.hg38.txt'\n",
    "chromsizes = pd.read_table(chromsize_fn, sep='\\t', names=['chrom', 'size'])\n",
    "chromsizes.set_index('chrom', inplace=True)\n",
    "\n",
    "# Excluding non-human chromosomes \n",
    "chroms = list(range(1, 23)) + ['X', 'Y']\n",
    "chroms = ['chr{}'.format(x) for x in chroms]\n",
    "chromsizes = chromsizes[chromsizes.index.isin(chroms)]"
   ]
  },
  {
   "cell_type": "code",
   "execution_count": 251,
   "metadata": {},
   "outputs": [
    {
     "data": {
      "text/html": [
       "<div>\n",
       "<style scoped>\n",
       "    .dataframe tbody tr th:only-of-type {\n",
       "        vertical-align: middle;\n",
       "    }\n",
       "\n",
       "    .dataframe tbody tr th {\n",
       "        vertical-align: top;\n",
       "    }\n",
       "\n",
       "    .dataframe thead th {\n",
       "        text-align: right;\n",
       "    }\n",
       "</style>\n",
       "<table border=\"1\" class=\"dataframe\">\n",
       "  <thead>\n",
       "    <tr style=\"text-align: right;\">\n",
       "      <th></th>\n",
       "      <th>size</th>\n",
       "      <th>bins</th>\n",
       "    </tr>\n",
       "    <tr>\n",
       "      <th>chrom</th>\n",
       "      <th></th>\n",
       "      <th></th>\n",
       "    </tr>\n",
       "  </thead>\n",
       "  <tbody>\n",
       "    <tr>\n",
       "      <th>chr1</th>\n",
       "      <td>248956422</td>\n",
       "      <td>(0, 40000, 80000, 120000, 160000, 200000, 2400...</td>\n",
       "    </tr>\n",
       "    <tr>\n",
       "      <th>chr2</th>\n",
       "      <td>242193529</td>\n",
       "      <td>(0, 40000, 80000, 120000, 160000, 200000, 2400...</td>\n",
       "    </tr>\n",
       "    <tr>\n",
       "      <th>chr3</th>\n",
       "      <td>198295559</td>\n",
       "      <td>(0, 40000, 80000, 120000, 160000, 200000, 2400...</td>\n",
       "    </tr>\n",
       "    <tr>\n",
       "      <th>chr4</th>\n",
       "      <td>190214555</td>\n",
       "      <td>(0, 40000, 80000, 120000, 160000, 200000, 2400...</td>\n",
       "    </tr>\n",
       "    <tr>\n",
       "      <th>chr5</th>\n",
       "      <td>181538259</td>\n",
       "      <td>(0, 40000, 80000, 120000, 160000, 200000, 2400...</td>\n",
       "    </tr>\n",
       "    <tr>\n",
       "      <th>chr6</th>\n",
       "      <td>170805979</td>\n",
       "      <td>(0, 40000, 80000, 120000, 160000, 200000, 2400...</td>\n",
       "    </tr>\n",
       "    <tr>\n",
       "      <th>chr7</th>\n",
       "      <td>159345973</td>\n",
       "      <td>(0, 40000, 80000, 120000, 160000, 200000, 2400...</td>\n",
       "    </tr>\n",
       "    <tr>\n",
       "      <th>chr8</th>\n",
       "      <td>145138636</td>\n",
       "      <td>(0, 40000, 80000, 120000, 160000, 200000, 2400...</td>\n",
       "    </tr>\n",
       "    <tr>\n",
       "      <th>chr9</th>\n",
       "      <td>138394717</td>\n",
       "      <td>(0, 40000, 80000, 120000, 160000, 200000, 2400...</td>\n",
       "    </tr>\n",
       "    <tr>\n",
       "      <th>chr10</th>\n",
       "      <td>133797422</td>\n",
       "      <td>(0, 40000, 80000, 120000, 160000, 200000, 2400...</td>\n",
       "    </tr>\n",
       "    <tr>\n",
       "      <th>chr11</th>\n",
       "      <td>135086622</td>\n",
       "      <td>(0, 40000, 80000, 120000, 160000, 200000, 2400...</td>\n",
       "    </tr>\n",
       "    <tr>\n",
       "      <th>chr12</th>\n",
       "      <td>133275309</td>\n",
       "      <td>(0, 40000, 80000, 120000, 160000, 200000, 2400...</td>\n",
       "    </tr>\n",
       "    <tr>\n",
       "      <th>chr13</th>\n",
       "      <td>114364328</td>\n",
       "      <td>(0, 40000, 80000, 120000, 160000, 200000, 2400...</td>\n",
       "    </tr>\n",
       "    <tr>\n",
       "      <th>chr14</th>\n",
       "      <td>107043718</td>\n",
       "      <td>(0, 40000, 80000, 120000, 160000, 200000, 2400...</td>\n",
       "    </tr>\n",
       "    <tr>\n",
       "      <th>chr15</th>\n",
       "      <td>101991189</td>\n",
       "      <td>(0, 40000, 80000, 120000, 160000, 200000, 2400...</td>\n",
       "    </tr>\n",
       "    <tr>\n",
       "      <th>chr16</th>\n",
       "      <td>90338345</td>\n",
       "      <td>(0, 40000, 80000, 120000, 160000, 200000, 2400...</td>\n",
       "    </tr>\n",
       "    <tr>\n",
       "      <th>chr17</th>\n",
       "      <td>83257441</td>\n",
       "      <td>(0, 40000, 80000, 120000, 160000, 200000, 2400...</td>\n",
       "    </tr>\n",
       "    <tr>\n",
       "      <th>chr18</th>\n",
       "      <td>80373285</td>\n",
       "      <td>(0, 40000, 80000, 120000, 160000, 200000, 2400...</td>\n",
       "    </tr>\n",
       "    <tr>\n",
       "      <th>chr19</th>\n",
       "      <td>58617616</td>\n",
       "      <td>(0, 40000, 80000, 120000, 160000, 200000, 2400...</td>\n",
       "    </tr>\n",
       "    <tr>\n",
       "      <th>chr20</th>\n",
       "      <td>64444167</td>\n",
       "      <td>(0, 40000, 80000, 120000, 160000, 200000, 2400...</td>\n",
       "    </tr>\n",
       "    <tr>\n",
       "      <th>chr21</th>\n",
       "      <td>46709983</td>\n",
       "      <td>(0, 40000, 80000, 120000, 160000, 200000, 2400...</td>\n",
       "    </tr>\n",
       "    <tr>\n",
       "      <th>chr22</th>\n",
       "      <td>50818468</td>\n",
       "      <td>(0, 40000, 80000, 120000, 160000, 200000, 2400...</td>\n",
       "    </tr>\n",
       "    <tr>\n",
       "      <th>chrX</th>\n",
       "      <td>156040895</td>\n",
       "      <td>(0, 40000, 80000, 120000, 160000, 200000, 2400...</td>\n",
       "    </tr>\n",
       "    <tr>\n",
       "      <th>chrY</th>\n",
       "      <td>57227415</td>\n",
       "      <td>(0, 40000, 80000, 120000, 160000, 200000, 2400...</td>\n",
       "    </tr>\n",
       "  </tbody>\n",
       "</table>\n",
       "</div>"
      ],
      "text/plain": [
       "            size                                               bins\n",
       "chrom                                                              \n",
       "chr1   248956422  (0, 40000, 80000, 120000, 160000, 200000, 2400...\n",
       "chr2   242193529  (0, 40000, 80000, 120000, 160000, 200000, 2400...\n",
       "chr3   198295559  (0, 40000, 80000, 120000, 160000, 200000, 2400...\n",
       "chr4   190214555  (0, 40000, 80000, 120000, 160000, 200000, 2400...\n",
       "chr5   181538259  (0, 40000, 80000, 120000, 160000, 200000, 2400...\n",
       "chr6   170805979  (0, 40000, 80000, 120000, 160000, 200000, 2400...\n",
       "chr7   159345973  (0, 40000, 80000, 120000, 160000, 200000, 2400...\n",
       "chr8   145138636  (0, 40000, 80000, 120000, 160000, 200000, 2400...\n",
       "chr9   138394717  (0, 40000, 80000, 120000, 160000, 200000, 2400...\n",
       "chr10  133797422  (0, 40000, 80000, 120000, 160000, 200000, 2400...\n",
       "chr11  135086622  (0, 40000, 80000, 120000, 160000, 200000, 2400...\n",
       "chr12  133275309  (0, 40000, 80000, 120000, 160000, 200000, 2400...\n",
       "chr13  114364328  (0, 40000, 80000, 120000, 160000, 200000, 2400...\n",
       "chr14  107043718  (0, 40000, 80000, 120000, 160000, 200000, 2400...\n",
       "chr15  101991189  (0, 40000, 80000, 120000, 160000, 200000, 2400...\n",
       "chr16   90338345  (0, 40000, 80000, 120000, 160000, 200000, 2400...\n",
       "chr17   83257441  (0, 40000, 80000, 120000, 160000, 200000, 2400...\n",
       "chr18   80373285  (0, 40000, 80000, 120000, 160000, 200000, 2400...\n",
       "chr19   58617616  (0, 40000, 80000, 120000, 160000, 200000, 2400...\n",
       "chr20   64444167  (0, 40000, 80000, 120000, 160000, 200000, 2400...\n",
       "chr21   46709983  (0, 40000, 80000, 120000, 160000, 200000, 2400...\n",
       "chr22   50818468  (0, 40000, 80000, 120000, 160000, 200000, 2400...\n",
       "chrX   156040895  (0, 40000, 80000, 120000, 160000, 200000, 2400...\n",
       "chrY    57227415  (0, 40000, 80000, 120000, 160000, 200000, 2400..."
      ]
     },
     "execution_count": 251,
     "metadata": {},
     "output_type": "execute_result"
    }
   ],
   "source": [
    "chromsizes"
   ]
  },
  {
   "cell_type": "markdown",
   "metadata": {},
   "source": [
    "## Analyzing bin counts "
   ]
  },
  {
   "cell_type": "code",
   "execution_count": 186,
   "metadata": {},
   "outputs": [],
   "source": [
    "def decide_read_bin(start, end, bin_size):\n",
    "    \"\"\"\n",
    "    Decide what bin to use for read with start end. \n",
    "    \n",
    "    \"\"\"\n",
    "    \n",
    "    mid = np.mean([start, end])\n",
    "    cbin = int(np.floor(mid/bin_size))\n",
    "    \n",
    "    return(cbin)\n",
    "\n",
    "def decide_read_pair_bin(startA, endA, startB, endB, bin_size):\n",
    "    \"\"\"\n",
    "    Decide what bin to use for read pair. \n",
    "    \n",
    "    \"\"\"\n",
    "\n",
    "    binA = decide_read_bin(startA, endA, bin_size)\n",
    "    binB = decide_read_bin(startB, endB, bin_size)\n",
    "    \n",
    "    return([binA, binB])"
   ]
  },
  {
   "cell_type": "code",
   "execution_count": null,
   "metadata": {},
   "outputs": [],
   "source": [
    "def chrom_num(x):\n",
    "    \"\"\"\n",
    "    Assign a chromosome number. \n",
    "    \n",
    "    \"\"\"\n",
    "    if x not in ['chrX', 'chrY']:\n",
    "        x = int(x.replace('chr', ''))\n",
    "    elif x == 'chrX':\n",
    "        x = 23\n",
    "    elif x == 'chrY':\n",
    "        x = 24\n",
    "        \n",
    "    return(x)\n",
    "\n",
    "def chrom_key(x):\n",
    "    \"\"\"\n",
    "    Generate a chromsome key for sorting. \n",
    "    \n",
    "    \"\"\"\n",
    "    \n",
    "    return(chrom_num(x[0]), chrom_num(x[2]), x[1], x[3])"
   ]
  },
  {
   "cell_type": "code",
   "execution_count": 313,
   "metadata": {},
   "outputs": [],
   "source": [
    "read_pairs_fn = '/gpfs/data01/glasslab/home/joreyna/projects/CSE283/Project/data/GSE122690/GSM3478205_HEK_iMARGI.bedpe.gz'\n",
    "bin_size = 1000000\n",
    "all_interactions_fn = read_pairs_fn.replace('bedpe.gz', 'bs_{}.contacts.gz'.format(bin_size))"
   ]
  },
  {
   "cell_type": "code",
   "execution_count": 316,
   "metadata": {},
   "outputs": [
    {
     "name": "stdout",
     "output_type": "stream",
     "text": [
      "0\n",
      "1000000\n",
      "2000000\n",
      "3000000\n",
      "4000000\n",
      "5000000\n",
      "6000000\n",
      "7000000\n",
      "8000000\n",
      "9000000\n",
      "10000000\n",
      "11000000\n",
      "12000000\n",
      "13000000\n",
      "14000000\n",
      "15000000\n",
      "16000000\n",
      "17000000\n",
      "18000000\n",
      "19000000\n",
      "20000000\n",
      "21000000\n",
      "22000000\n",
      "23000000\n",
      "24000000\n",
      "25000000\n",
      "26000000\n",
      "27000000\n",
      "28000000\n",
      "29000000\n",
      "30000000\n",
      "31000000\n",
      "32000000\n",
      "33000000\n",
      "34000000\n",
      "35000000\n",
      "36000000\n"
     ]
    }
   ],
   "source": [
    "if not os.path.exists(all_interactions_fn):\n",
    "    contact_map = Counter()\n",
    "    with gzip.open(read_pairs_fn) as f:\n",
    "        for i, line in enumerate(f):\n",
    "            line = line.decode().strip()\n",
    "            chrA, startA, endA, chrB, startB, endB, _, _, _,_ = line.split('\\t')\n",
    "            startA, endA, startB, endB = [int(x) for x in (startA, endA, startB, endB)]\n",
    "            binA, binB = decide_read_pair_bin(startA, endA, startB, endB, bin_size)\n",
    "\n",
    "            contact_key = (chrA, binA, chrB, binB)\n",
    "\n",
    "            if chromA in chroms and chromB in chroms: \n",
    "                contact_map[contact_key] += 1 \n",
    "\n",
    "            if i % 1000000 == 0:\n",
    "                print(i)\n",
    "                "
   ]
  },
  {
   "cell_type": "code",
   "execution_count": null,
   "metadata": {},
   "outputs": [],
   "source": [
    "# Temp code to remove non-human chromes \n",
    "temp_contact_map = {}\n",
    "for k, v in contact_map.items():\n",
    "    if k[0] in chroms and k[2] in chroms: \n",
    "        temp_contact_map[k] = v\n",
    "        "
   ]
  },
  {
   "cell_type": "code",
   "execution_count": 322,
   "metadata": {},
   "outputs": [],
   "source": [
    "contact_map = temp_contact_map"
   ]
  },
  {
   "cell_type": "code",
   "execution_count": 323,
   "metadata": {},
   "outputs": [],
   "source": [
    "# Write the contact map in sorted order by chromsome and positions \n",
    "if not os.path.exists(all_interactions_fn):\n",
    "    \n",
    "    # Getting and sorting contact keys \n",
    "    contact_keys = contact_map.keys()\n",
    "    sorted_keys = sorted(contact_keys, key=chrom_key)\n",
    "    \n",
    "    with gzip.open(all_interactions_fn, 'w') as f: \n",
    "        for key in sorted_keys: \n",
    "            counts = contact_map[key]\n",
    "            msg = list(key) + [counts]\n",
    "            msg = '\\t'.join([str(x) for x in msg]) + '\\n'\n",
    "            f.write(msg.encode())"
   ]
  },
  {
   "cell_type": "markdown",
   "metadata": {},
   "source": [
    "## Experimenting with a multiprocessing method "
   ]
  },
  {
   "cell_type": "markdown",
   "metadata": {},
   "source": [
    "https://docs.python.org/3/library/multiprocessing.html"
   ]
  },
  {
   "cell_type": "raw",
   "metadata": {},
   "source": [
    "def processing_read_pairs(subset):\n",
    "    \n",
    "    start, end = subset\n",
    "    \n",
    "    read_pairs_fn = '/gpfs/data01/glasslab/home/joreyna/projects/CSE283/Project/data/GSE122690/GSM3478205_HEK_iMARGI.bedpe.gz'\n",
    "    bin_size = 1000000\n",
    "    \n",
    "    ext = 'bs_{}_subset_{}.contacts.gz'.format(bin_size, subset)\n",
    "    subset_interactions_fn = read_pairs_fn.replace('bedpe.gz', ext)  \n",
    "    \n",
    "    if not os.path.exists(subset_interactions_fn):\n",
    "        contact_map = Counter()\n",
    "        with gzip.open(read_pairs_fn) as f:\n",
    "            for i, line in enumerate(f):\n",
    "                \n",
    "                if i >= start and i < end:  \n",
    "                    line = line.decode().strip()\n",
    "                    chrA, startA, endA, chrB, startB, endB, _, _, _,_ = line.split('\\t')\n",
    "                    startA, endA, startB, endB = [int(x) for x in (startA, endA, startB, endB)]\n",
    "                    binA, binB = decide_read_pair_bin(startA, endA, startB, endB, bin_size)\n",
    "\n",
    "                    contact_key = (chrA, binA, chrB, binB)\n",
    "\n",
    "                    if chromA in chroms and chromB in chroms: \n",
    "                        contact_map[contact_key] += 1 \n",
    "                elif i >= end: \n",
    "                    break \n",
    "                    \n",
    "                else: \n",
    "                    continue \n",
    "                    \n",
    "        return(contact_map)"
   ]
  },
  {
   "cell_type": "raw",
   "metadata": {},
   "source": [
    "def combine_counters(counters):\n",
    "    \n",
    "    \"\"\"\n",
    "    Combine counters from the multiprocessing. \n",
    "    \n",
    "    \"\"\"\n",
    "    \n",
    "    master_counter = Counter()\n",
    "    for counter in counters:\n",
    "        for k, v in counter.items():\n",
    "            master_counter[k] += v \n",
    "    return(master_counter)"
   ]
  },
  {
   "cell_type": "raw",
   "metadata": {},
   "source": [
    "# Running multiple processes \n",
    "#chromsizes.loc[chromA, 'size']\n",
    "num_steps = 5\n",
    "file_len = 36338875\n",
    "file_steps = file_len / num_steps\n",
    "left_subsets = np.arange(0, file_len + file_steps, file_steps)\n",
    "subsets = [(left_subsets[i], left_subsets[i + 1]) for i in range(len(left_subsets) -1)]"
   ]
  },
  {
   "cell_type": "raw",
   "metadata": {},
   "source": [
    "with Pool(num_steps) as p:\n",
    "    results = p.map(processing_read_pairs, subsets)"
   ]
  },
  {
   "cell_type": "raw",
   "metadata": {},
   "source": [
    "master_contact_map = combine_counters(results)"
   ]
  },
  {
   "cell_type": "raw",
   "metadata": {},
   "source": [
    "# Write the contact map in sorted order by chromsome and positions \n",
    "if not os.path.exists(all_interactions_fn):\n",
    "    \n",
    "    # Getting and sorting contact keys \n",
    "    contact_keys = contact_map.keys()\n",
    "    sorted_keys = sorted(contact_keys, key=chrom_key)\n",
    "    \n",
    "    with gzip.open(all_interactions_fn, 'w') as f: \n",
    "        for key in sorted_keys: \n",
    "            counts = contact_map[key]\n",
    "            msg = list(key) + [counts]\n",
    "            msg = '\\t'.join([str(x) for x in msg]) + '\\n'\n",
    "            f.write(msg.encode())"
   ]
  },
  {
   "cell_type": "markdown",
   "metadata": {},
   "source": [
    "## Plotting the heatmap "
   ]
  },
  {
   "cell_type": "code",
   "execution_count": 303,
   "metadata": {},
   "outputs": [],
   "source": [
    "def filter_write_contact_data(fn, output_fn, chromA, chromB):\n",
    "    \"\"\"\n",
    "    Filter the data by chromA and chromB and write.\n",
    "    \n",
    "    \"\"\"\n",
    "    \n",
    "    if not os.path.exists(output_fn):\n",
    "        with gzip.open(fn) as all_contacts:\n",
    "            with gzip.open(output_fn, 'w') as flt_contacts:\n",
    "            \n",
    "                for line in all_contacts: \n",
    "\n",
    "                    info = line.decode().strip()\n",
    "                    chrA, binA, chrB, binB, counts = info.split('\\t')    \n",
    "\n",
    "                    if chrA == chromA and chrB == chromB: \n",
    "                        flt_contacts.write(line)\n",
    "\n",
    "\n",
    "# Writing contact data for chromA and chromB \n",
    "chromA, chromB = ('chr9', 'chr9')\n",
    "ext = '{}_{}.contacts.gz'.format(chromA, chromB)\n",
    "flt_interactions_fn = all_interactions_fn.replace('contacts.gz', ext) \n",
    "filter_write_contact_data(all_interactions_fn, flt_interactions_fn, chromA, chromB)"
   ]
  },
  {
   "cell_type": "code",
   "execution_count": 304,
   "metadata": {},
   "outputs": [],
   "source": [
    "# Loading the data for chromA and chromB\n",
    "contact_data = pd.read_table(flt_interactions_fn, names=['chrA', 'binA', 'chrB', 'binB', 'counts'])"
   ]
  },
  {
   "cell_type": "code",
   "execution_count": 305,
   "metadata": {},
   "outputs": [],
   "source": [
    "# Generating the contact matrix \n",
    "max_binA = contact_data.binA.max()\n",
    "max_binB = contact_data.binB.max()\n",
    "contact_matrix = np.zeros((max_binA + 1, max_binB + 1))\n",
    "for (chrA, binA, chrB, binB, count) in contact_data.values:\n",
    "    contact_matrix[binA, binB] = count\n"
   ]
  },
  {
   "cell_type": "code",
   "execution_count": 310,
   "metadata": {},
   "outputs": [
    {
     "data": {
      "text/plain": [
       "<matplotlib.axes._subplots.AxesSubplot at 0x7f57cbfcabe0>"
      ]
     },
     "execution_count": 310,
     "metadata": {},
     "output_type": "execute_result"
    },
    {
     "data": {
      "image/png": "[encoded data removed]",
      "text/plain": [
       "<Figure size 576x432 with 2 Axes>"
      ]
     },
     "metadata": {
      "needs_background": "light"
     },
     "output_type": "display_data"
    }
   ],
   "source": [
    "fig,ax = plt.subplots(figsize=(8,6))\n",
    "sns.heatmap(contact_matrix)"
   ]
  },
  {
   "cell_type": "code",
   "execution_count": null,
   "metadata": {},
   "outputs": [],
   "source": []
  },
  {
   "cell_type": "code",
   "execution_count": null,
   "metadata": {},
   "outputs": [],
   "source": []
  },
  {
   "cell_type": "code",
   "execution_count": null,
   "metadata": {},
   "outputs": [],
   "source": []
  },
  {
   "cell_type": "code",
   "execution_count": null,
   "metadata": {},
   "outputs": [],
   "source": []
  },
  {
   "cell_type": "code",
   "execution_count": null,
   "metadata": {},
   "outputs": [],
   "source": []
  },
  {
   "cell_type": "code",
   "execution_count": null,
   "metadata": {},
   "outputs": [],
   "source": []
  },
  {
   "cell_type": "code",
   "execution_count": null,
   "metadata": {},
   "outputs": [],
   "source": []
  },
  {
   "cell_type": "code",
   "execution_count": null,
   "metadata": {},
   "outputs": [],
   "source": []
  },
  {
   "cell_type": "code",
   "execution_count": null,
   "metadata": {},
   "outputs": [],
   "source": []
  },
  {
   "cell_type": "code",
   "execution_count": null,
   "metadata": {},
   "outputs": [],
   "source": []
  },
  {
   "cell_type": "code",
   "execution_count": null,
   "metadata": {},
   "outputs": [],
   "source": []
  },
  {
   "cell_type": "code",
   "execution_count": null,
   "metadata": {},
   "outputs": [],
   "source": []
  },
  {
   "cell_type": "code",
   "execution_count": null,
   "metadata": {},
   "outputs": [],
   "source": []
  },
  {
   "cell_type": "code",
   "execution_count": null,
   "metadata": {},
   "outputs": [],
   "source": []
  },
  {
   "cell_type": "code",
   "execution_count": null,
   "metadata": {},
   "outputs": [],
   "source": []
  },
  {
   "cell_type": "code",
   "execution_count": null,
   "metadata": {},
   "outputs": [],
   "source": []
  },
  {
   "cell_type": "code",
   "execution_count": null,
   "metadata": {},
   "outputs": [],
   "source": []
  },
  {
   "cell_type": "code",
   "execution_count": null,
   "metadata": {},
   "outputs": [],
   "source": []
  },
  {
   "cell_type": "code",
   "execution_count": null,
   "metadata": {},
   "outputs": [],
   "source": []
  },
  {
   "cell_type": "code",
   "execution_count": null,
   "metadata": {},
   "outputs": [],
   "source": []
  },
  {
   "cell_type": "code",
   "execution_count": null,
   "metadata": {},
   "outputs": [],
   "source": []
  }
 ],
 "metadata": {
  "kernelspec": {
   "display_name": "tf_binding_model",
   "language": "python",
   "name": "tf_binding_model"
  },
  "language_info": {
   "codemirror_mode": {
    "name": "ipython",
    "version": 3
   },
   "file_extension": ".py",
   "mimetype": "text/x-python",
   "name": "python",
   "nbconvert_exporter": "python",
   "pygments_lexer": "ipython3",
   "version": "3.7.1"
  }
 },
 "nbformat": 4,
 "nbformat_minor": 2
}
