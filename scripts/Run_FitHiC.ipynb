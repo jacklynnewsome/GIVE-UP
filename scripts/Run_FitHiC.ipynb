{
 "cells": [
  {
   "cell_type": "code",
   "execution_count": 116,
   "metadata": {},
   "outputs": [],
   "source": [
    "import pandas as pd \n",
    "import numpy as np\n",
    "from collections import Counter\n",
    "import gzip\n",
    "import os\n",
    "import subprocess\n",
    "\n",
    "import matplotlib.pyplot as plt \n",
    "%matplotlib inline \n",
    "import seaborn as sns \n",
    "import subprocess\n",
    "\n",
    "cell_type = 'HFF'\n",
    "cell_type = 'HEK'\n",
    "output_dir = '../output/fithic/{}'.format(cell_type)"
   ]
  },
  {
   "cell_type": "markdown",
   "metadata": {},
   "source": [
    "## Analyzing bin counts "
   ]
  },
  {
   "cell_type": "code",
   "execution_count": 117,
   "metadata": {},
   "outputs": [],
   "source": [
    "\n",
    "\n",
    "def chrom_num(x):\n",
    "    \"\"\"\n",
    "    Assign a chromosome number. \n",
    "    \n",
    "    \"\"\"\n",
    "    if x not in ['chrX', 'chrY']:\n",
    "        x = int(x.replace('chr', ''))\n",
    "        \n",
    "    elif x == 'chrX':\n",
    "        x = 23\n",
    "        \n",
    "    elif x == 'chrY':\n",
    "        x = 24\n",
    "        \n",
    "    return(x)\n",
    "\n",
    "def chrom_pair_key(x):\n",
    "    \"\"\"\n",
    "    Generate a chromsome key for sorting. \n",
    "    \n",
    "    \"\"\"\n",
    "    \n",
    "    return(chrom_num(x[0]), chrom_num(x[2]), x[1], x[3])\n",
    "\n",
    "\n",
    "def chrom_key(x):\n",
    "    \"\"\"\n",
    "    Generate a chromsome key for sorting. \n",
    "    \n",
    "    \"\"\"\n",
    "    \n",
    "    return(chrom_num(x[0]), x[1])\n",
    "\n",
    "\n",
    "def decide_read_bin(pos, res):\n",
    "    \"\"\"\n",
    "    Decide what bin to use for read with start end. \n",
    "    \n",
    "    \"\"\"\n",
    "    \n",
    "    cbin = int(np.floor(pos / res))\n",
    "    \n",
    "    return(cbin)\n",
    "\n",
    "def decide_read_pair_bin(posA, posB, res):\n",
    "    \"\"\"\n",
    "    Decide what bin to use for read pair. \n",
    "    \n",
    "    \"\"\"\n",
    "\n",
    "    binA = decide_read_bin(posA, res)\n",
    "    binB = decide_read_bin(posB, res)\n",
    "    \n",
    "    return([binA, binB])\n",
    "\n",
    "\n",
    "def decide_read_pos(pos, res):\n",
    "    \"\"\"\n",
    "    Decide what bin to use for read with start end. \n",
    "    \n",
    "    \"\"\"\n",
    "    \n",
    "    cbin = int(np.floor(pos / res) * res)\n",
    "    \n",
    "    return(cbin)\n",
    "\n",
    "def decide_read_pair_pos(posA, posB, res):\n",
    "    \"\"\"\n",
    "    Decide what bin to use for read pair. \n",
    "    \n",
    "    \"\"\"\n",
    "\n",
    "    binA = decide_read_pos(posA, res)\n",
    "    binB = decide_read_pos(posB, res)\n",
    "    \n",
    "    return([binA, binB])"
   ]
  },
  {
   "cell_type": "code",
   "execution_count": 118,
   "metadata": {},
   "outputs": [],
   "source": [
    "read_pairs_fn = '/gpfs/data01/glasslab/home/joreyna/projects/CSE283/imarge_project/'\n",
    "read_pairs_fn += 'data/iMARGI_seq/filter200k_final_{}_iMARGI.pairs'.format(cell_type)\n",
    "\n",
    "res = 40000\n",
    "interactions_fn = os.path.basename(read_pairs_fn)\n",
    "interactions_fn = interactions_fn.replace('pairs', 'res{}.interactions.txt.gz'.format(res))\n",
    "interactions_fn = os.path.join(output_dir, interactions_fn)\n",
    "margin_counts_fn = interactions_fn.replace('interactions', 'margin_counts')\n",
    "\n",
    "# Excluding non-human chromosomes \n",
    "chroms = list(range(1, 23)) + ['X', 'Y']\n",
    "chroms = ['chr{}'.format(x) for x in chroms]"
   ]
  },
  {
   "cell_type": "code",
   "execution_count": 119,
   "metadata": {},
   "outputs": [],
   "source": [
    "if not os.path.exists(interactions_fn):\n",
    "\n",
    "    print('Analyzing interactions.')\n",
    "    \n",
    "    contact_map = Counter()\n",
    "    margin_counts = Counter()\n",
    "    \n",
    "    with open(read_pairs_fn) as f:\n",
    "        \n",
    "        for i, line in enumerate(f):\n",
    "            \n",
    "            if line.startswith('#'):\n",
    "                continue \n",
    "                \n",
    "            line = line.strip()\n",
    "            vals = line.split()\n",
    "            chromA, posA, chromB, posB = vals[1:5]\n",
    "            posA, posB = int(posA), int(posB)\n",
    "\n",
    "            if chromA in chroms and chromB in chroms: \n",
    "                binA, binB = decide_read_pair_pos(posA, posB, res)\n",
    "                contact_key = (chromA, binA, chromB, binB)\n",
    "                contact_map[contact_key] += 1 \n",
    "\n",
    "            if i % 1000000 == 0:\n",
    "                print(i)\n",
    "          "
   ]
  },
  {
   "cell_type": "code",
   "execution_count": 120,
   "metadata": {},
   "outputs": [],
   "source": [
    "# Write the contact map in sorted order by chromsome and positions \n",
    "if not os.path.exists(interactions_fn):\n",
    "    \n",
    "    print('Writing interactions file.')\n",
    "    \n",
    "    # Getting and sorting contact keys \n",
    "    contact_keys = contact_map.keys()\n",
    "    sorted_keys = sorted(contact_keys, key=chrom_pair_key)\n",
    "    \n",
    "    # Writing the interactions \n",
    "    with gzip.open(interactions_fn, 'wb') as f: \n",
    "        for key in sorted_keys: \n",
    "            counts = contact_map[key]\n",
    "            msg = list(key) + [counts]\n",
    "            msg = '\\t'.join([str(x) for x in msg]) + '\\n'\n",
    "            f.write(msg.encode())    "
   ]
  },
  {
   "cell_type": "code",
   "execution_count": 121,
   "metadata": {},
   "outputs": [],
   "source": [
    "# Write the contact map in sorted order by chromsome and positions \n",
    "if not os.path.exists(margin_counts_fn):\n",
    "    \n",
    "    print('Writing margin counts file.')\n",
    "    \n",
    "    # Getting and sorting contact keys \n",
    "    margin_keys = contact_map.keys()\n",
    "    sorted_keys = sorted(contact_keys, key=chrom_key)\n",
    "    \n",
    "    # Writing the interactions \n",
    "    with gzip.open(margin_counts_fn, 'wb') as f: \n",
    "        for key in sorted_keys: \n",
    "            counts = contact_map[key]\n",
    "\n",
    "            # Write the chr, dummy 0, midpoint, counts, and dummy 1.\n",
    "            msg = [key[0], 0, key[1], counts, 0]\n",
    "            msg = '\\t'.join([str(x) for x in msg]) + '\\n'\n",
    "            f.write(msg.encode())"
   ]
  },
  {
   "cell_type": "code",
   "execution_count": 122,
   "metadata": {},
   "outputs": [],
   "source": [
    "fithic_script = '/gpfs/data01/glasslab/home/joreyna/projects/CSE283/imarge_project/software/fithic/fithic/fithic.py'\n",
    "python_path = '/home/joreyna/.conda/envs/tf_binding_nnet/bin/python'\n",
    "sig_ints = os.path.join(output_dir, 'FitHiC.spline_pass1.res40000.significances.txt.gz')\n",
    "\n",
    "if not os.path.exists(sig_ints):\n",
    "    cmd = '{} {} -i {} -f {} -o {} -r {} -x All'.\\\n",
    "        format(python_path, fithic_script, interactions_fn, margin_counts_fn, output_dir, res)\n",
    "    sp = subprocess.Popen(cmd, stdout=subprocess.PIPE, stderr=subprocess.PIPE, shell=True)\n",
    "    sp.communicate()\n",
    "\n",
    "    print(comm[0].decode())\n",
    "    print(comm[1].decode())"
   ]
  },
  {
   "cell_type": "markdown",
   "metadata": {},
   "source": [
    "## Running FitHiC "
   ]
  },
  {
   "cell_type": "code",
   "execution_count": 123,
   "metadata": {},
   "outputs": [
    {
     "name": "stdout",
     "output_type": "stream",
     "text": [
      "Extracting significant interactions.\n"
     ]
    }
   ],
   "source": [
    "flt_sig_ints = sig_ints.replace('gz', 'flt.gz')\n",
    "\n",
    "if not os.path.exists(flt_sig_ints):\n",
    "\n",
    "    print('Extracting significant interactions.')\n",
    "    \n",
    "    with gzip.open(sig_ints) as f, gzip.open(flt_sig_ints, 'wb') as fw:\n",
    "        \n",
    "        header = next(f) \n",
    "        fw.write(header)\n",
    "        for i, line in enumerate(f):\n",
    "                \n",
    "            line = line.strip()\n",
    "            vals = line.split()\n",
    "            chromA, posA, chromB, posB, counts, pval, qval, bias1, bias2 = vals\n",
    "            pval, qval = float(pval), float(qval)\n",
    "            \n",
    "            if qval < 0.05: \n",
    "                fw.write(line + '\\n'.encode())"
   ]
  },
  {
   "cell_type": "code",
   "execution_count": null,
   "metadata": {},
   "outputs": [],
   "source": []
  },
  {
   "cell_type": "code",
   "execution_count": null,
   "metadata": {},
   "outputs": [],
   "source": []
  },
  {
   "cell_type": "code",
   "execution_count": null,
   "metadata": {},
   "outputs": [],
   "source": []
  },
  {
   "cell_type": "code",
   "execution_count": null,
   "metadata": {},
   "outputs": [],
   "source": []
  },
  {
   "cell_type": "code",
   "execution_count": null,
   "metadata": {},
   "outputs": [],
   "source": []
  },
  {
   "cell_type": "code",
   "execution_count": null,
   "metadata": {},
   "outputs": [],
   "source": []
  },
  {
   "cell_type": "code",
   "execution_count": null,
   "metadata": {},
   "outputs": [],
   "source": []
  },
  {
   "cell_type": "code",
   "execution_count": null,
   "metadata": {},
   "outputs": [],
   "source": []
  }
 ],
 "metadata": {
  "kernelspec": {
   "display_name": "tf_binding_model",
   "language": "python",
   "name": "tf_binding_model"
  },
  "language_info": {
   "codemirror_mode": {
    "name": "ipython",
    "version": 3
   },
   "file_extension": ".py",
   "mimetype": "text/x-python",
   "name": "python",
   "nbconvert_exporter": "python",
   "pygments_lexer": "ipython3",
   "version": "3.7.1"
  }
 },
 "nbformat": 4,
 "nbformat_minor": 2
}
