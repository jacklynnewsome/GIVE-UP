{
 "cells": [
  {
   "cell_type": "markdown",
   "metadata": {},
   "source": [
    "# Generate FitHiC Input "
   ]
  },
  {
   "cell_type": "code",
   "execution_count": 3,
   "metadata": {},
   "outputs": [],
   "source": [
    "import os \n",
    "from collections import Counter, defaultdict"
   ]
  },
  {
   "cell_type": "code",
   "execution_count": 1,
   "metadata": {},
   "outputs": [],
   "source": [
    "data_dir = '../data/iMARGI_seq/filter200k_final_HEK_iMARGI.pairs'\n",
    "output_dir = '../output/'"
   ]
  },
  {
   "cell_type": "code",
   "execution_count": null,
   "metadata": {},
   "outputs": [],
   "source": [
    "marginalizedCounts =  Counter()\n",
    "\n",
    "interactions_fn = os.path.join(output_dir, '')\n",
    "\n",
    "if not os.path.exists(all_interactions_fn):\n",
    "\n",
    "    print('Analyzing interactions.')\n",
    "    \n",
    "    contact_map = Counter()\n",
    "    \n",
    "    with open(read_pairs_fn) as f:\n",
    "        \n",
    "        for i, line in enumerate(f):\n",
    "            \n",
    "            if line.startswith('#'):\n",
    "                continue \n",
    "                \n",
    "            line = line.strip()\n",
    "            vals = line.split()\n",
    "            chromA, posA, chromB, posB = vals[1:5]\n",
    "            posA, posB = int(posA), int(posB)\n",
    "\n",
    "            if chromA in chroms and chromB in chroms: \n",
    "                binA, binB = decide_read_pair_bin(posA, posB, bin_size)\n",
    "                contact_key = (chromA, binA, chromB, binB)\n",
    "                contact_map[contact_key] += 1 \n",
    "\n",
    "            if i % 1000000 == 0:\n",
    "                print(i)\n",
    "                         \n",
    "# Write the contact map in sorted order by chromsome and positions \n",
    "if not os.path.exists(all_interactions_fn):\n",
    "    \n",
    "    print('Writing interactions file.')\n",
    "    \n",
    "    # Getting and sorting contact keys \n",
    "    contact_keys = contact_map.keys()\n",
    "    sorted_keys = sorted(contact_keys, key=chrom_key)\n",
    "    \n",
    "    # Writing the interactions \n",
    "    with open(all_interactions_fn, 'w') as f: \n",
    "        for key in sorted_keys: \n",
    "            counts = contact_map[key]\n",
    "            msg = list(key) + [counts]\n",
    "            msg = '\\t'.join([str(x) for x in msg]) + '\\n'\n",
    "            f.write(msg)"
   ]
  },
  {
   "cell_type": "code",
   "execution_count": null,
   "metadata": {},
   "outputs": [],
   "source": []
  },
  {
   "cell_type": "code",
   "execution_count": null,
   "metadata": {},
   "outputs": [],
   "source": []
  },
  {
   "cell_type": "code",
   "execution_count": null,
   "metadata": {},
   "outputs": [],
   "source": []
  },
  {
   "cell_type": "code",
   "execution_count": null,
   "metadata": {},
   "outputs": [],
   "source": []
  },
  {
   "cell_type": "code",
   "execution_count": null,
   "metadata": {},
   "outputs": [],
   "source": []
  }
 ],
 "metadata": {
  "kernelspec": {
   "display_name": "tf_binding_model",
   "language": "python",
   "name": "tf_binding_model"
  },
  "language_info": {
   "codemirror_mode": {
    "name": "ipython",
    "version": 3
   },
   "file_extension": ".py",
   "mimetype": "text/x-python",
   "name": "python",
   "nbconvert_exporter": "python",
   "pygments_lexer": "ipython3",
   "version": "3.7.1"
  }
 },
 "nbformat": 4,
 "nbformat_minor": 2
}
